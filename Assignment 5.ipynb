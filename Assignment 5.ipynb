{
 "cells": [
  {
   "cell_type": "code",
   "execution_count": null,
   "id": "dcf3c040",
   "metadata": {},
   "outputs": [],
   "source": [
    "Practice 1"
   ]
  },
  {
   "cell_type": "code",
   "execution_count": 2,
   "id": "2c947b65",
   "metadata": {},
   "outputs": [
    {
     "name": "stdout",
     "output_type": "stream",
     "text": [
      "['Name', 'Age', 'Grade']\n",
      "['Alice', '21', 'A']\n",
      "['Bob', '22', 'F']\n",
      "['Charlie', '18', 'B']\n",
      "['David', '21', 'A']\n",
      "['Eve', '20', 'A']\n",
      "['Fiona', '18', 'C']\n",
      "['George', '19', 'A']\n",
      "['Hannah', '20', 'C']\n",
      "['Isla', '22', 'A']\n",
      "['Jack', '21', 'B']\n",
      "['Alice', '20', 'C']\n",
      "['Bob', '20', 'C']\n",
      "['Charlie', '18', 'C']\n",
      "['David', '20', 'A']\n",
      "['Eve', '21', 'B']\n",
      "['Fiona', '19', 'C']\n",
      "['George', '18', 'F']\n",
      "['Hannah', '19', 'B']\n",
      "['Isla', '19', 'B']\n",
      "['Jack', '18', 'F']\n",
      "['Alice', '18', 'F']\n",
      "['Bob', '18', 'F']\n",
      "['Charlie', '18', 'C']\n",
      "['David', '18', 'F']\n",
      "['Eve', '20', 'B']\n",
      "['Fiona', '19', 'B']\n",
      "['George', '21', 'D']\n",
      "['Hannah', '19', 'B']\n",
      "['Isla', '19', 'B']\n",
      "['Jack', '18', 'F']\n",
      "['Alice', '19', 'B']\n",
      "['Bob', '20', 'B']\n",
      "['Charlie', '22', 'D']\n",
      "['David', '20', 'C']\n",
      "['Eve', '19', 'A']\n",
      "['Fiona', '20', 'F']\n",
      "['George', '21', 'F']\n",
      "['Hannah', '22', 'F']\n",
      "['Isla', '21', 'F']\n",
      "['Jack', '19', 'F']\n",
      "['Alice', '20', 'C']\n",
      "['Bob', '22', 'F']\n",
      "['Charlie', '21', 'C']\n",
      "['David', '21', 'C']\n",
      "['Eve', '22', 'A']\n",
      "['Fiona', '20', 'B']\n",
      "['George', '20', 'D']\n",
      "['Hannah', '21', 'F']\n",
      "['Isla', '22', 'B']\n",
      "['Jack', '21', 'B']\n",
      "['Alice', '22', 'B']\n",
      "['Bob', '20', 'C']\n",
      "['Charlie', '21', 'A']\n",
      "['David', '22', 'F']\n",
      "['Eve', '19', 'A']\n",
      "['Fiona', '19', 'F']\n",
      "['George', '21', 'D']\n",
      "['Hannah', '20', 'B']\n",
      "['Isla', '18', 'A']\n",
      "['Jack', '18', 'D']\n",
      "['Alice', '18', 'C']\n",
      "['Bob', '20', 'C']\n",
      "['Charlie', '19', 'C']\n",
      "['David', '20', 'F']\n",
      "['Eve', '18', 'D']\n",
      "['Fiona', '22', 'A']\n",
      "['George', '18', 'D']\n",
      "['Hannah', '18', 'C']\n",
      "['Isla', '20', 'B']\n",
      "['Jack', '20', 'F']\n",
      "['Alice', '22', 'A']\n",
      "['Bob', '20', 'F']\n",
      "['Charlie', '22', 'C']\n",
      "['David', '18', 'A']\n",
      "['Eve', '20', 'F']\n",
      "['Fiona', '19', 'A']\n",
      "['George', '18', 'F']\n",
      "['Hannah', '19', 'B']\n",
      "['Isla', '18', 'D']\n",
      "['Jack', '22', 'B']\n",
      "['Alice', '19', 'A']\n",
      "['Bob', '19', 'D']\n",
      "['Charlie', '19', 'A']\n",
      "['David', '20', 'F']\n",
      "['Eve', '19', 'B']\n",
      "['Fiona', '20', 'C']\n",
      "['George', '22', 'A']\n",
      "['Hannah', '19', 'D']\n",
      "['Isla', '19', 'C']\n",
      "['Jack', '21', 'C']\n",
      "['Alice', '18', 'A']\n",
      "['Bob', '19', 'B']\n",
      "['Charlie', '22', 'F']\n",
      "['David', '22', 'A']\n",
      "['Eve', '21', 'C']\n",
      "['Fiona', '19', 'F']\n",
      "['George', '18', 'C']\n",
      "['Hannah', '22', 'F']\n",
      "['Isla', '18', 'F']\n",
      "['Jack', '20', 'D']\n"
     ]
    }
   ],
   "source": [
    "import csv\n",
    "with open('students.csv', 'r') as input_file:\n",
    "    csv_reader=csv.reader(input_file)\n",
    "    for row in csv_reader:\n",
    "        print(row)\n",
    "with open('students.csv', 'r') as input_file, open('top_students.csv','w') as output_file:\n",
    "    reader=csv.reader(input_file)\n",
    "    writer=csv.writer(output_file)\n",
    "    writer.writerow(['Name','Age','Grade','Status'])\n",
    "    for row in reader:\n",
    "        if row[2] < 'C':\n",
    "            writer.writerow([row,'Pass'])"
   ]
  },
  {
   "cell_type": "code",
   "execution_count": null,
   "id": "8ebeaac8",
   "metadata": {},
   "outputs": [],
   "source": [
    "Practice 2"
   ]
  },
  {
   "cell_type": "code",
   "execution_count": 3,
   "id": "8887499a",
   "metadata": {},
   "outputs": [
    {
     "name": "stdout",
     "output_type": "stream",
     "text": [
      "Enter the name of a state: Sarawak\n",
      "Sarawak is not found in the data.\n",
      "Enter the name of a state: Johor\n",
      "Population of Johor:3794000\n"
     ]
    }
   ],
   "source": [
    "state_populations = {'Johor':3794000, 'Kedah':2224400, 'Kelantan':1938000}\n",
    "def get_state_population():\n",
    "    while True:\n",
    "        state_name = input(\"Enter the name of a state: \")\n",
    "        population = state_populations.get(state_name)\n",
    "        if population is not None:\n",
    "            print(f\"Population of {state_name}:{population}\")\n",
    "            break\n",
    "        else:\n",
    "            print(f\"{state_name} is not found in the data.\")\n",
    "\n",
    "get_state_population()"
   ]
  },
  {
   "cell_type": "code",
   "execution_count": null,
   "id": "2e9d11cd",
   "metadata": {},
   "outputs": [],
   "source": []
  }
 ],
 "metadata": {
  "kernelspec": {
   "display_name": "Python 3 (ipykernel)",
   "language": "python",
   "name": "python3"
  },
  "language_info": {
   "codemirror_mode": {
    "name": "ipython",
    "version": 3
   },
   "file_extension": ".py",
   "mimetype": "text/x-python",
   "name": "python",
   "nbconvert_exporter": "python",
   "pygments_lexer": "ipython3",
   "version": "3.11.5"
  }
 },
 "nbformat": 4,
 "nbformat_minor": 5
}
